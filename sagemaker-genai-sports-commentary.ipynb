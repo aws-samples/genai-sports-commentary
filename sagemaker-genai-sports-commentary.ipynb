{
 "cells": [
  {
   "cell_type": "markdown",
   "id": "7231e28c-ab88-40b0-a284-14d3dd976b69",
   "metadata": {
    "tags": []
   },
   "source": [
    "# Generate Personalized Sports Commentary Using Generative AI\n",
    "\n",
    "Organizations in Sports industry are harnessing the power of AI to help bring better experience to fans who engage the sports throughout the events. With latest developments in technology, the expectations of sports fans are also evolving. Fans are more immersed in rich and personalized experiences by engaging with the games on-the-go with their smartphones. The need was felt for truly unique, live sports experiences that went beyond the usual routine of watching the games on live TV or streaming devices.\n",
    "\n",
    "When it comes to engaging sports fans, Sportscasters provides analysis by condensing live information into interesting and relevant summaries. However, given the increasing amount of data collected and analyzed in the games, it becomes a challenging task to distill the information into summaries that are most relevant to the individuals. In sports reporting, the delivery of commentaries which turns data into engaging stories could drastically enhance the fan experiences. For instance, using a particular commentary style. or a particular language that the fans speak.\n",
    "\n",
    "That’s where AI Natural Language Generation can be helpful in this area. With Foundation Models, which are trained on trillion corpus of words, we can now take the live data collected at the stadiums, and use the models to generate commentaries in variety of styles and languages to meet individual fan preferences.\n",
    "\n",
    "To demonstrate the capability, we'll use a foundation model to generate sports commentaries. Additionally, we'll use a sample dataset to provide the model with contextual information. \n",
    "\n",
    "Following are the specific artifacts to be used throughout the notebook:\n",
    "\n",
    "* Dataset: NFL dataset provided by [kaggle](https://www.kaggle.com/datasets/maxhorowitz/nflplaybyplay2009to2016)\n",
    "* Foundation model: [A121 Jurassic-2 Jumbo Instruct](https://aws.amazon.com/marketplace/pp/prodview-f4y5ksmu5kccy)\n",
    "\n",
    "The notebook is broken down into the following steps:\n",
    "1. Create a new SageMaker endpoint using a J2 Instruct model \n",
    "2. Iterate each row in the CSV data; create a prompt based on the type of play\n",
    "3. Create a prompt by augmenting specifial instructions, such as style, language and so forth. \n",
    "4. Delete the endpoint."
   ]
  },
  {
   "cell_type": "markdown",
   "id": "4728d15f-e3b0-404c-b819-233dd2640b07",
   "metadata": {},
   "source": [
    "First, we need to install A121 python library that integrates with SageMaker"
   ]
  },
  {
   "cell_type": "code",
   "execution_count": 1,
   "id": "429d22eb-d701-414a-91ab-8c58394f97d8",
   "metadata": {
    "tags": []
   },
   "outputs": [],
   "source": [
    "!pip install ai21[SM] sagemaker boto3 --quiet"
   ]
  },
  {
   "cell_type": "markdown",
   "id": "3afefbfa-3d1e-4841-beff-747820e21b8d",
   "metadata": {},
   "source": [
    "Import required libraries"
   ]
  },
  {
   "cell_type": "code",
   "execution_count": 2,
   "id": "6c5324ad-8f7a-410c-b424-fa5964b4a962",
   "metadata": {
    "tags": []
   },
   "outputs": [],
   "source": [
    "import csv \n",
    "import ai21\n",
    "import json\n",
    "import datetime\n",
    "import math\n",
    "import boto3\n",
    "import json\n",
    "import sagemaker as sage\n",
    "from sagemaker import ModelPackage\n",
    "from sagemaker import get_execution_role\n",
    "from sagemaker import ModelPackage"
   ]
  },
  {
   "cell_type": "markdown",
   "id": "259217e0-979b-44c8-addf-f28d16ef65a0",
   "metadata": {},
   "source": [
    "# Deploy AI21 Model to SageMaker\n",
    "In order to deploy AI21 models, we need to reference the model artifacts via model package ARN. \n",
    "Specifically, the model package ARNs for J2-Jumbo instruct are defined as in the following dictionary.\n",
    "\n",
    "## Prerequisites\n",
    "This notebook has been tested in SageMaker Notebook instance and SageMaker Studio environments. \n",
    "You would need the required IAM permissions in order to access resources and to deploy models to SageMaker in this notebook. Follow this [documentation](https://docs.aws.amazon.com/sagemaker/latest/dg/security_iam_service-with-iam.html) for setting up appropriate IAM Role and Policies in SageMaker for more information. \n",
    "\n",
    "The following steps outlines the procss of deploying an AI21 model in SageMaker: \n",
    "\n",
    "1. Reference the model package ARN based on the region\n",
    "2. Define the name of the model\n",
    "3. Select an appropriate instance type to host the model: (recommended: ml.p4d.24xlarge\")\n",
    "4. Use SageMaker SDK to deploy the model"
   ]
  },
  {
   "cell_type": "code",
   "execution_count": 3,
   "id": "0e87ce69-9a43-4364-a3b7-ad21b01c9e2e",
   "metadata": {
    "tags": []
   },
   "outputs": [],
   "source": [
    "model_package_map = {\n",
    "    \"us-east-1\": \"arn:aws:sagemaker:us-east-1:865070037744:model-package/j2-jumbo-instruct-v1-1-033-87b797db88313edf9c3851adf6fc371f\",\n",
    "    \"us-east-2\": \"arn:aws:sagemaker:us-east-2:057799348421:model-package/j2-jumbo-instruct-v1-1-033-87b797db88313edf9c3851adf6fc371f\",\n",
    "    \"us-west-1\": \"arn:aws:sagemaker:us-west-1:382657785993:model-package/j2-jumbo-instruct-v1-1-033-87b797db88313edf9c3851adf6fc371f\",\n",
    "    \"us-west-2\": \"arn:aws:sagemaker:us-west-2:594846645681:model-package/j2-jumbo-instruct-v1-1-033-87b797db88313edf9c3851adf6fc371f\",\n",
    "    \"ca-central-1\": \"arn:aws:sagemaker:ca-central-1:470592106596:model-package/j2-jumbo-instruct-v1-1-033-87b797db88313edf9c3851adf6fc371f\",\n",
    "    \"eu-central-1\": \"arn:aws:sagemaker:eu-central-1:446921602837:model-package/j2-jumbo-instruct-v1-1-033-87b797db88313edf9c3851adf6fc371f\",\n",
    "    \"eu-west-1\": \"arn:aws:sagemaker:eu-west-1:985815980388:model-package/j2-jumbo-instruct-v1-1-033-87b797db88313edf9c3851adf6fc371f\",\n",
    "    \"eu-west-2\": \"arn:aws:sagemaker:eu-west-2:856760150666:model-package/j2-jumbo-instruct-v1-1-033-87b797db88313edf9c3851adf6fc371f\",\n",
    "    \"eu-west-3\": \"arn:aws:sagemaker:eu-west-3:843114510376:model-package/j2-jumbo-instruct-v1-1-033-87b797db88313edf9c3851adf6fc371f\",\n",
    "    \"eu-north-1\": \"arn:aws:sagemaker:eu-north-1:136758871317:model-package/j2-jumbo-instruct-v1-1-033-87b797db88313edf9c3851adf6fc371f\",\n",
    "    \"ap-southeast-1\": \"arn:aws:sagemaker:ap-southeast-1:192199979996:model-package/j2-jumbo-instruct-v1-1-033-87b797db88313edf9c3851adf6fc371f\",\n",
    "    \"ap-southeast-2\": \"arn:aws:sagemaker:ap-southeast-2:666831318237:model-package/j2-jumbo-instruct-v1-1-033-87b797db88313edf9c3851adf6fc371f\",\n",
    "    \"ap-northeast-2\": \"arn:aws:sagemaker:ap-northeast-2:745090734665:model-package/j2-jumbo-instruct-v1-1-033-87b797db88313edf9c3851adf6fc371f\",\n",
    "    \"ap-northeast-1\": \"arn:aws:sagemaker:ap-northeast-1:977537786026:model-package/j2-jumbo-instruct-v1-1-033-87b797db88313edf9c3851adf6fc371f\",\n",
    "    \"ap-south-1\": \"arn:aws:sagemaker:ap-south-1:077584701553:model-package/j2-jumbo-instruct-v1-1-033-87b797db88313edf9c3851adf6fc371f\",\n",
    "    \"sa-east-1\": \"arn:aws:sagemaker:sa-east-1:270155090741:model-package/j2-jumbo-instruct-v1-1-033-87b797db88313edf9c3851adf6fc371f\"\n",
    "}"
   ]
  },
  {
   "cell_type": "markdown",
   "id": "ddaa2297-76c8-48fd-9db0-f867d34a7487",
   "metadata": {},
   "source": [
    "First, we need to find the right model package ARN based on the region we are using."
   ]
  },
  {
   "cell_type": "code",
   "execution_count": 4,
   "id": "b5d7175c-c9c2-4c0e-87eb-f8945af19d38",
   "metadata": {
    "tags": []
   },
   "outputs": [],
   "source": [
    "region = boto3.Session().region_name\n",
    "if region not in model_package_map.keys():\n",
    "    raise (\"UNSUPPORTED REGION\")\n",
    "\n",
    "model_package_arn = model_package_map[region]"
   ]
  },
  {
   "cell_type": "markdown",
   "id": "7fb25764-360a-491f-80b2-9b1b398484bb",
   "metadata": {},
   "source": [
    "Create a sagemaker session object and a boto3 client"
   ]
  },
  {
   "cell_type": "code",
   "execution_count": 5,
   "id": "09ff0b9b-e445-4d87-ac2d-0a6e2d57e13d",
   "metadata": {
    "tags": []
   },
   "outputs": [],
   "source": [
    "role = get_execution_role()\n",
    "sagemaker_session = sage.Session()\n",
    "\n",
    "runtime_sm_client = boto3.client(\"runtime.sagemaker\")"
   ]
  },
  {
   "cell_type": "markdown",
   "id": "fca45030-cda4-4128-863a-000a4bc62653",
   "metadata": {
    "tags": []
   },
   "source": [
    "Define the model name, instance type, and the content type to be used to send requests to the model endpoint"
   ]
  },
  {
   "cell_type": "code",
   "execution_count": 6,
   "id": "25dae0cf-8ac8-428d-97f2-7195e8d675cf",
   "metadata": {
    "tags": []
   },
   "outputs": [],
   "source": [
    "model_name = \"j2-jumbo-instruct\"\n",
    "\n",
    "content_type = \"application/json\"\n",
    "\n",
    "real_time_inference_instance_type = (\n",
    "    \"ml.p4d.24xlarge\"\n",
    ")"
   ]
  },
  {
   "cell_type": "markdown",
   "id": "0792d551-fc09-4e1c-8862-f48f2ba542a5",
   "metadata": {},
   "source": [
    "create a deployable model from the model package. The model object is used by SageMaker SDK to deploy the model into SageMaker Inference."
   ]
  },
  {
   "cell_type": "code",
   "execution_count": 7,
   "id": "9097e2fb-fe12-41bb-bcd6-62eab957a282",
   "metadata": {
    "tags": []
   },
   "outputs": [],
   "source": [
    "# create a deployable model from the model package.\n",
    "model = ModelPackage(\n",
    "    role=role, model_package_arn=model_package_arn, sagemaker_session=sagemaker_session\n",
    ")"
   ]
  },
  {
   "cell_type": "markdown",
   "id": "4de493e1-d35a-4f54-9067-35679d529f39",
   "metadata": {},
   "source": [
    "Deploy the model"
   ]
  },
  {
   "cell_type": "code",
   "execution_count": null,
   "id": "9ca06aa8-2fc5-4b6a-b9d2-6b0b3ffad531",
   "metadata": {},
   "outputs": [],
   "source": [
    "# Deploy the model\n",
    "predictor = model.deploy(1, real_time_inference_instance_type, endpoint_name=model_name, \n",
    "                         model_data_download_timeout=3600,\n",
    "                         container_startup_health_check_timeout=600,\n",
    "                        )"
   ]
  },
  {
   "cell_type": "markdown",
   "id": "6c1c3a99-a7a6-4071-a8db-cfb0ea06ef7f",
   "metadata": {},
   "source": [
    "# Working with the A121 Model\n",
    "After the endpoint is deployed successfully, we can start using the model to generate text. In particular, we'll be using the model to generate a commentary based on a prompt. A prompt is essentailly a short description of the particular task for the model to carry out. You can think of the prompt as the input to the model. For instance, to ask the model to answer a specific question, the prompt would be the question. Follow this linkt to learn more about [prompt engineering](https://en.wikipedia.org/wiki/Prompt_engineering). \n",
    "\n",
    "Specific to our use case, we would provide a prompt that would generate a sport commentary to the model. A simple example would be:\n",
    "\n",
    "```\n",
    "\"As a professional sportscaster, write a commentary in 2 sentences\"\n",
    "```\n",
    "We'll evaluate the model capabilities of generating the commentaries by exploring different prompts. Let's go!"
   ]
  },
  {
   "cell_type": "markdown",
   "id": "4d6d471c-7edd-4d37-81ea-1b1addb84a64",
   "metadata": {},
   "source": [
    "Define common variables to be referenced throughout the notebook"
   ]
  },
  {
   "cell_type": "code",
   "execution_count": 8,
   "id": "9a00add2-76c7-4e1c-acd2-85509fd140ac",
   "metadata": {
    "tags": []
   },
   "outputs": [],
   "source": [
    "sample_input_csv = \"data/reg_pbp_2009_500.csv\"\n",
    "down_dict = {1: \"first down\", 2: \"second down\", 3: \"third down\", 4: \"forth down\"}\n",
    "quarter_dict = {1: \"first quarter\", 2: \"second quarter\", 3: \"third quarter\", 4: \"forth quarter\"}\n",
    "quarter_end = True"
   ]
  },
  {
   "cell_type": "markdown",
   "id": "da201c64-a549-431e-ad8c-1fac67817475",
   "metadata": {},
   "source": [
    "Define a function that takes in a prompt and return a generated commentary"
   ]
  },
  {
   "cell_type": "code",
   "execution_count": 9,
   "id": "c3a184fd-5ac5-469c-a8ed-cc20b51e7d89",
   "metadata": {
    "tags": []
   },
   "outputs": [],
   "source": [
    "def generate_commentary(prompt):\n",
    "    response = ai21.Completion.execute(sm_endpoint=\"j2-jumbo-instruct\",\n",
    "                                   prompt=prompt,\n",
    "                                   maxTokens=50,\n",
    "                                   temperature=0,\n",
    "                                   numResults=1)\n",
    "\n",
    "    return response['completions'][0]['data']['text'][1:]"
   ]
  },
  {
   "cell_type": "markdown",
   "id": "2c456a95-dfbf-404b-bebf-690c7cc7edb3",
   "metadata": {},
   "source": [
    "As described earlier, we will be using a sample dataset that contains an NFL game play by play data. \n",
    "In the following function, we are taking the CSV row and transform into a prompt based on the particular play type. \n",
    "Based on the dataset, valid play types are defined as followed:\n",
    "\n",
    "* kickoff\n",
    "* pass\n",
    "* run\n",
    "* punt\n",
    "* field_goal\n",
    "* na -> no play (such as end of the quarter)\n",
    "\n",
    "The goal here is to provide relevant context about a play, then construct a prompt to the model for commentary generation.\n",
    "The following function takes in a single row in CSV, extracts the context from the given data point based on the particular play type. \n",
    "The returned prompt will then get fed into the model to generate commentary."
   ]
  },
  {
   "cell_type": "code",
   "execution_count": 10,
   "id": "864a8bff-378d-409e-b2f6-a0e1d3b89166",
   "metadata": {
    "tags": []
   },
   "outputs": [],
   "source": [
    "def generate_prompt(row, language, style):\n",
    "    '''\n",
    "    Prompt generator based on the given row.\n",
    "    :param row: dictionary that describes the play.\n",
    "\n",
    "    :return: curated prompt based on the given row.\n",
    "    '''\n",
    "    global quarter_end\n",
    "    prompt = {}\n",
    "    prompt['starting_yard_line'] = row['yrdln']\n",
    "    prompt['quarter_time_remaining'] = row['time']\n",
    "    prompt['home_team_score'] = row['total_home_score']\n",
    "    prompt['away_team_score'] = row['total_away_score']\n",
    "    play_type = row['play_type']\n",
    "    offensive_team = row['posteam']\n",
    "    defensive_team = row['defteam']\n",
    "\n",
    "    if str(row['down']).isnumeric():\n",
    "        down = down_dict[int(row['down'])]\n",
    "    yards_gained = row['yards_gained']\n",
    "    if quarter_end:\n",
    "        prompt['new quarter'] = True\n",
    "        quarter_end = False\n",
    "    if row['touchdown'] == 1:\n",
    "        prompt['touchdown'] = \"touchdown\"\n",
    "        prompt['number of drive'] = row['drive']\n",
    "    if row['sack'] == 1:\n",
    "        prompt['sacked'] = 'sacked'\n",
    "\n",
    "    if row['penalty'] == 1:\n",
    "        prompt['is penalty'] = True\n",
    "        prompt['penalty team'] = row['penalty_team']\n",
    "        prompt['penalty player'] = row['penalty_player_name']\n",
    "        prompt['penalty yards'] = row['penalty_yards']\n",
    "        prompt['penalty type'] = row['penalty_type']\n",
    "    if play_type == \"kickoff\":\n",
    "        prompt['quarter'] = quarter_dict[int(row['qtr'])]\n",
    "        prompt['play_type'] = play_type\n",
    "        prompt['team'] = defensive_team\n",
    "        prompt['receiving team'] = offensive_team\n",
    "        prompt['distance'] = row['kick_distance']\n",
    "        prompt['return yards'] = row['return_yards']\n",
    "        prompt['player name'] = row['kicker_player_name']\n",
    "        prompt['returner player name'] = row['kickoff_returner_player_name']\n",
    "\n",
    "    elif play_type == \"pass\":\n",
    "        prompt['play_type'] = play_type\n",
    "        prompt['offensive_team'] = offensive_team\n",
    "        prompt['defensive_team'] = defensive_team\n",
    "        prompt['down'] = down\n",
    "        prompt['pass_length'] = row['pass_length']\n",
    "        if row['touchdown'] != 1:\n",
    "            prompt[f\"{down} with yards to go\"] = row['ydstogo']\n",
    "        prompt['passer_player_name'] = row['passer_player_name']\n",
    "        prompt['receiver_player_name'] = row['receiver_player_name']\n",
    "        prompt['passing_yards_gained'] = yards_gained\n",
    "        if row['complete_pass'] == 1:\n",
    "            prompt['completion'] = \"complete pass\"\n",
    "        else:\n",
    "            prompt['completion'] = \"incomplete pass\"\n",
    "    elif play_type == \"run\":\n",
    "        prompt['play type'] = play_type\n",
    "        prompt['offensive_team'] = offensive_team\n",
    "        prompt['defensive_team'] = defensive_team\n",
    "        prompt['rusher_player_name'] = row['rusher_player_name']\n",
    "        prompt['rushing_yards_gained'] = yards_gained\n",
    "        prompt['tackle_1_player_name'] = row['solo_tackle_1_player_name']\n",
    "        prompt['tackle_2_player_name'] = row['assist_tackle_1_player_name']\n",
    "    elif play_type == \"punt\":\n",
    "        prompt['play_type'] = play_type\n",
    "        prompt[f\"{down} with yards to go\"] = row['ydstogo']\n",
    "        prompt['offensive_team'] = offensive_team\n",
    "        prompt['defensive_team'] = defensive_team\n",
    "        prompt['punt_distance'] = row['kick_distance']\n",
    "        prompt['punter_player_name'] = row['punter_player_name']\n",
    "    elif play_type == \"field_goal\":\n",
    "        prompt['play_type'] = play_type\n",
    "        prompt['offensive_team'] = offensive_team\n",
    "        prompt['defensive_team'] = defensive_team\n",
    "        prompt[f\"{down} with yards to go\"] = row['ydstogo']\n",
    "        prompt['field_goal_result'] = row['field_goal_result']\n",
    "        prompt['kick_distance'] = row['kick_distance']\n",
    "        prompt['kicker_player_name'] = row['kicker_player_name']\n",
    "    elif play_type == \"extra_point\":\n",
    "        prompt['offensive_team'] = offensive_team\n",
    "        prompt['defensive_team'] = defensive_team\n",
    "        prompt['extra_point_result'] = row['extra_point_result']\n",
    "        prompt['kicker_player_name'] = row['kicker_player_name']\n",
    "\n",
    "    elif play_type != play_type:  # nan\n",
    "        prompt['offensive_team'] = offensive_team\n",
    "        prompt['defensive_team'] = defensive_team\n",
    "        prompt['end_of_the_quarter'] = True\n",
    "        quarter_end = True\n",
    "        \n",
    "    prompt = f\"{json.dumps(prompt)} \\n As a professional sportscaster, write a {style} style commentary in {language} using 2 sentences\"\n",
    "    return prompt"
   ]
  },
  {
   "cell_type": "markdown",
   "id": "158f2cf7-2a3a-4873-9fa5-7c999db85266",
   "metadata": {},
   "source": [
    "Here we will look through the CSV file line by line and look at the output from the model. For simplicity, we'll only test the first few lines of the plays to give us some ideas about how the model performs based on the give prompt. \n",
    "In simplest term, we'll explore different styles and languages. J2 models support the following languages:\n",
    "\n",
    "* Spanish\n",
    "* French\n",
    "* German\n",
    "* Portuguese\n",
    "* Italian\n",
    "* Dutch"
   ]
  },
  {
   "cell_type": "code",
   "execution_count": 11,
   "id": "7ad5da33-46f3-423c-ab34-f0ab71a3fdf0",
   "metadata": {
    "tags": []
   },
   "outputs": [],
   "source": [
    "def test_model(language=\"english\", style=\"nfl\", max_lines=5):\n",
    "    current_line = 0\n",
    "    with open(sample_input_csv) as csv_file:\n",
    "            csv_reader = csv.DictReader(csv_file)\n",
    "            for row in csv_reader:\n",
    "                if max_lines == current_line:\n",
    "                    break\n",
    "                prompt = generate_prompt(row, language, style)\n",
    "                print(\"\\033[94m \\x1B[1m PROMPT\")\n",
    "                print(f'\\033[94m {prompt}')\n",
    "                print(\"\\033[92m \\x1B[1m COMMENTARY\")\n",
    "                generated_commentary = f\"({row['time']}) {generate_commentary(prompt)}\"\n",
    "                print(f'{generated_commentary}')\n",
    "                current_line += 1"
   ]
  },
  {
   "cell_type": "code",
   "execution_count": 12,
   "id": "4e09063a-04f0-49ad-a15d-2f878da112fe",
   "metadata": {
    "tags": []
   },
   "outputs": [
    {
     "name": "stdout",
     "output_type": "stream",
     "text": [
      "\u001b[94m \u001b[1m PROMPT\n",
      "\u001b[94m {\"starting_yard_line\": \"TEN 30\", \"quarter_time_remaining\": \"15:00\", \"home_team_score\": \"0\", \"away_team_score\": \"0\", \"new quarter\": true, \"quarter\": \"first quarter\", \"play_type\": \"kickoff\", \"team\": \"TEN\", \"receiving team\": \"PIT\", \"distance\": \"67\", \"return yards\": \"39\", \"player name\": \"R.Bironas\", \"returner player name\": \"S.Logan\"} \n",
      " As a professional sportscaster, write a nfl style commentary in English using 2 sentences\n",
      "\u001b[92m \u001b[1m COMMENTARY\n",
      "(15:00) The Tennessee Titans kick off to the Steelers to start the first quarter. The returner, S. Logan, brings the ball back 39 yards.\n",
      "\u001b[94m \u001b[1m PROMPT\n",
      "\u001b[94m {\"starting_yard_line\": \"PIT 42\", \"quarter_time_remaining\": \"14:53\", \"home_team_score\": \"0\", \"away_team_score\": \"0\", \"play_type\": \"pass\", \"offensive_team\": \"PIT\", \"defensive_team\": \"TEN\", \"down\": \"first down\", \"pass_length\": \"short\", \"first down with yards to go\": \"10\", \"passer_player_name\": \"B.Roethlisberger\", \"receiver_player_name\": \"H.Ward\", \"passing_yards_gained\": \"5\", \"completion\": \"incomplete pass\"} \n",
      " As a professional sportscaster, write a nfl style commentary in English using 2 sentences\n",
      "\u001b[92m \u001b[1m COMMENTARY\n",
      "(14:53) The Steelers start the drive at their own 42-yard line. Ben Roethlisberger throws a short pass to Hines Ward, but it is incomplete. The Steelers have 10 yards to go for the first down.\n",
      "\u001b[94m \u001b[1m PROMPT\n",
      "\u001b[94m {\"starting_yard_line\": \"PIT 47\", \"quarter_time_remaining\": \"14:16\", \"home_team_score\": \"0\", \"away_team_score\": \"0\", \"play type\": \"run\", \"offensive_team\": \"PIT\", \"defensive_team\": \"TEN\", \"rusher_player_name\": \"W.Parker\", \"rushing_yards_gained\": \"-3\", \"tackle_1_player_name\": \"S.Tulloch\", \"tackle_2_player_name\": \"NA\"} \n",
      " As a professional sportscaster, write a nfl style commentary in English using 2 sentences\n",
      "\u001b[92m \u001b[1m COMMENTARY\n",
      "(14:16) The play was a run by Pittsburgh's William Parker, who was tackled by Tennessee's Stephen Tulloch for a loss of three yards.\n",
      "\u001b[94m \u001b[1m PROMPT\n",
      "\u001b[94m {\"starting_yard_line\": \"PIT 44\", \"quarter_time_remaining\": \"13:35\", \"home_team_score\": \"0\", \"away_team_score\": \"0\", \"play_type\": \"pass\", \"offensive_team\": \"PIT\", \"defensive_team\": \"TEN\", \"down\": \"third down\", \"pass_length\": \"deep\", \"third down with yards to go\": \"8\", \"passer_player_name\": \"B.Roethlisberger\", \"receiver_player_name\": \"M.Wallace\", \"passing_yards_gained\": \"0\", \"completion\": \"incomplete pass\"} \n",
      " As a professional sportscaster, write a nfl style commentary in English using 2 sentences\n",
      "\u001b[92m \u001b[1m COMMENTARY\n",
      "(13:35) The Steelers are on their own 44-yard line, and it's 3rd down. Ben Roethlisberger throws a deep pass to Mike Wallace, but it's incomplete. The Steelers will punt the ball away.\n",
      "\u001b[94m \u001b[1m PROMPT\n",
      "\u001b[94m {\"starting_yard_line\": \"PIT 44\", \"quarter_time_remaining\": \"13:27\", \"home_team_score\": \"0\", \"away_team_score\": \"0\", \"play_type\": \"punt\", \"forth down with yards to go\": \"8\", \"offensive_team\": \"PIT\", \"defensive_team\": \"TEN\", \"punt_distance\": \"54\", \"punter_player_name\": \"D.Sepulveda\"} \n",
      " As a professional sportscaster, write a nfl style commentary in English using 2 sentences\n",
      "\u001b[92m \u001b[1m COMMENTARY\n",
      "(13:27) The Steelers punt the ball from their own 44-yard line, and it's picked up by the Titans at their own 20-yard line.\n"
     ]
    }
   ],
   "source": [
    "language = \"English\" # setting language to be in English\n",
    "style = \"nfl\" # standard style being the NFL style\n",
    "test_model(language, style)"
   ]
  },
  {
   "cell_type": "markdown",
   "id": "5012e0f0-3f67-414c-9ec5-f2fde25ec11e",
   "metadata": {},
   "source": [
    "Let's try a different style"
   ]
  },
  {
   "cell_type": "code",
   "execution_count": 13,
   "id": "25f61165-4422-4463-992d-bcf39a5cd5df",
   "metadata": {
    "tags": []
   },
   "outputs": [
    {
     "name": "stdout",
     "output_type": "stream",
     "text": [
      "\u001b[94m \u001b[1m PROMPT\n",
      "\u001b[94m {\"starting_yard_line\": \"TEN 30\", \"quarter_time_remaining\": \"15:00\", \"home_team_score\": \"0\", \"away_team_score\": \"0\", \"quarter\": \"first quarter\", \"play_type\": \"kickoff\", \"team\": \"TEN\", \"receiving team\": \"PIT\", \"distance\": \"67\", \"return yards\": \"39\", \"player name\": \"R.Bironas\", \"returner player name\": \"S.Logan\"} \n",
      " As a professional sportscaster, write a twitter style commentary in english using 2 sentences\n",
      "\u001b[92m \u001b[1m COMMENTARY\n",
      "(15:00) \"R.Bironas kicks off to S.Logan, who returns it 39 yards to the TEN 30. 15:00 remaining in the first quarter. #TENvsPIT\"\n",
      "\u001b[94m \u001b[1m PROMPT\n",
      "\u001b[94m {\"starting_yard_line\": \"PIT 42\", \"quarter_time_remaining\": \"14:53\", \"home_team_score\": \"0\", \"away_team_score\": \"0\", \"play_type\": \"pass\", \"offensive_team\": \"PIT\", \"defensive_team\": \"TEN\", \"down\": \"first down\", \"pass_length\": \"short\", \"first down with yards to go\": \"10\", \"passer_player_name\": \"B.Roethlisberger\", \"receiver_player_name\": \"H.Ward\", \"passing_yards_gained\": \"5\", \"completion\": \"incomplete pass\"} \n",
      " As a professional sportscaster, write a twitter style commentary in english using 2 sentences\n",
      "\u001b[92m \u001b[1m COMMENTARY\n",
      "(14:53) \"First down for the Steelers! Roethlisberger throws a short pass to Ward, who is unable to reel it in. 10 yards to go for a first down.\"\n",
      "\u001b[94m \u001b[1m PROMPT\n",
      "\u001b[94m {\"starting_yard_line\": \"PIT 47\", \"quarter_time_remaining\": \"14:16\", \"home_team_score\": \"0\", \"away_team_score\": \"0\", \"play type\": \"run\", \"offensive_team\": \"PIT\", \"defensive_team\": \"TEN\", \"rusher_player_name\": \"W.Parker\", \"rushing_yards_gained\": \"-3\", \"tackle_1_player_name\": \"S.Tulloch\", \"tackle_2_player_name\": \"NA\"} \n",
      " As a professional sportscaster, write a twitter style commentary in english using 2 sentences\n",
      "\u001b[92m \u001b[1m COMMENTARY\n",
      "(14:16) W. Parker rushes the ball for a 3-yard loss, tackled by S Tulloch. #PITvsTEN\n",
      "\u001b[94m \u001b[1m PROMPT\n",
      "\u001b[94m {\"starting_yard_line\": \"PIT 44\", \"quarter_time_remaining\": \"13:35\", \"home_team_score\": \"0\", \"away_team_score\": \"0\", \"play_type\": \"pass\", \"offensive_team\": \"PIT\", \"defensive_team\": \"TEN\", \"down\": \"third down\", \"pass_length\": \"deep\", \"third down with yards to go\": \"8\", \"passer_player_name\": \"B.Roethlisberger\", \"receiver_player_name\": \"M.Wallace\", \"passing_yards_gained\": \"0\", \"completion\": \"incomplete pass\"} \n",
      " As a professional sportscaster, write a twitter style commentary in english using 2 sentences\n",
      "\u001b[92m \u001b[1m COMMENTARY\n",
      "(13:35) Pass from Roethlisberger to Wallace is incomplete, bringing up 4th down for the Steelers.\n",
      "\u001b[94m \u001b[1m PROMPT\n",
      "\u001b[94m {\"starting_yard_line\": \"PIT 44\", \"quarter_time_remaining\": \"13:27\", \"home_team_score\": \"0\", \"away_team_score\": \"0\", \"play_type\": \"punt\", \"forth down with yards to go\": \"8\", \"offensive_team\": \"PIT\", \"defensive_team\": \"TEN\", \"punt_distance\": \"54\", \"punter_player_name\": \"D.Sepulveda\"} \n",
      " As a professional sportscaster, write a twitter style commentary in english using 2 sentences\n",
      "\u001b[92m \u001b[1m COMMENTARY\n",
      "(13:27) Punting from their own 44-yard line, the Steelers are trailing 0-0 with 13:27 left in the first quarter. Punter D. Sepulveda's punt traveled 54 yards, giving the Titans the ball at their own 42-yard line.\n"
     ]
    }
   ],
   "source": [
    "language = \"english\" # setting language to be in English\n",
    "style = \"twitter\" # twitter style\n",
    "test_model(language, style)"
   ]
  },
  {
   "cell_type": "code",
   "execution_count": 14,
   "id": "b7e3ee52-2ae8-4594-8840-e664286e3476",
   "metadata": {
    "tags": []
   },
   "outputs": [
    {
     "name": "stdout",
     "output_type": "stream",
     "text": [
      "\u001b[94m \u001b[1m PROMPT\n",
      "\u001b[94m {\"starting_yard_line\": \"TEN 30\", \"quarter_time_remaining\": \"15:00\", \"home_team_score\": \"0\", \"away_team_score\": \"0\", \"quarter\": \"first quarter\", \"play_type\": \"kickoff\", \"team\": \"TEN\", \"receiving team\": \"PIT\", \"distance\": \"67\", \"return yards\": \"39\", \"player name\": \"R.Bironas\", \"returner player name\": \"S.Logan\"} \n",
      " As a professional sportscaster, write a meme style commentary in english using 2 sentences\n",
      "\u001b[92m \u001b[1m COMMENTARY\n",
      "(15:00) \"And there it is! R. Bironas kicks off to S. Logan, who returns it 39 yards. Looks like it's going to be an exciting game, folks!\"\n",
      "\u001b[94m \u001b[1m PROMPT\n",
      "\u001b[94m {\"starting_yard_line\": \"PIT 42\", \"quarter_time_remaining\": \"14:53\", \"home_team_score\": \"0\", \"away_team_score\": \"0\", \"play_type\": \"pass\", \"offensive_team\": \"PIT\", \"defensive_team\": \"TEN\", \"down\": \"first down\", \"pass_length\": \"short\", \"first down with yards to go\": \"10\", \"passer_player_name\": \"B.Roethlisberger\", \"receiver_player_name\": \"H.Ward\", \"passing_yards_gained\": \"5\", \"completion\": \"incomplete pass\"} \n",
      " As a professional sportscaster, write a meme style commentary in english using 2 sentences\n",
      "\u001b[92m \u001b[1m COMMENTARY\n",
      "(14:53) \"And Big Ben drops back to pass on first down, looking to connect with his favorite target, Hines Ward. But the ball is just out of reach, and it's an incompletion. The Steelers will need to pick up a few more yards if they want to get into the end zone.\"\n",
      "\u001b[94m \u001b[1m PROMPT\n",
      "\u001b[94m {\"starting_yard_line\": \"PIT 47\", \"quarter_time_remaining\": \"14:16\", \"home_team_score\": \"0\", \"away_team_score\": \"0\", \"play type\": \"run\", \"offensive_team\": \"PIT\", \"defensive_team\": \"TEN\", \"rusher_player_name\": \"W.Parker\", \"rushing_yards_gained\": \"-3\", \"tackle_1_player_name\": \"S.Tulloch\", \"tackle_2_player_name\": \"NA\"} \n",
      " As a professional sportscaster, write a meme style commentary in english using 2 sentences\n",
      "\u001b[92m \u001b[1m COMMENTARY\n",
      "(14:16) \"Well folks, it looks like the Steelers are off to a rough start today. William Parker just lost 3 yards on a run, and the Titans defense is looking strong. Let's hope they can turn it around in the second half.\"\n",
      "\u001b[94m \u001b[1m PROMPT\n",
      "\u001b[94m {\"starting_yard_line\": \"PIT 44\", \"quarter_time_remaining\": \"13:35\", \"home_team_score\": \"0\", \"away_team_score\": \"0\", \"play_type\": \"pass\", \"offensive_team\": \"PIT\", \"defensive_team\": \"TEN\", \"down\": \"third down\", \"pass_length\": \"deep\", \"third down with yards to go\": \"8\", \"passer_player_name\": \"B.Roethlisberger\", \"receiver_player_name\": \"M.Wallace\", \"passing_yards_gained\": \"0\", \"completion\": \"incomplete pass\"} \n",
      " As a professional sportscaster, write a meme style commentary in english using 2 sentences\n",
      "\u001b[92m \u001b[1m COMMENTARY\n",
      "(13:35) \"It's third down and long for the Steelers, but Big Ben is not afraid to air it out. He launches a deep pass to Mike Wallace, but it's incomplete. The Titans defense is holding strong.\"\n",
      "\u001b[94m \u001b[1m PROMPT\n",
      "\u001b[94m {\"starting_yard_line\": \"PIT 44\", \"quarter_time_remaining\": \"13:27\", \"home_team_score\": \"0\", \"away_team_score\": \"0\", \"play_type\": \"punt\", \"forth down with yards to go\": \"8\", \"offensive_team\": \"PIT\", \"defensive_team\": \"TEN\", \"punt_distance\": \"54\", \"punter_player_name\": \"D.Sepulveda\"} \n",
      " As a professional sportscaster, write a meme style commentary in english using 2 sentences\n",
      "\u001b[92m \u001b[1m COMMENTARY\n",
      "(13:27) \"Sepulveda with the punt, and it's a good one! The Steelers are backed up in their own territory, but Sepulveda's punt gives their defense a chance to pin the Titans back.\"\n"
     ]
    }
   ],
   "source": [
    "language = \"english\" # setting language to be in English\n",
    "style = \"meme\" # meme style\n",
    "test_model(language, style)"
   ]
  },
  {
   "cell_type": "code",
   "execution_count": 15,
   "id": "3c74bcf9-27a5-4df0-8422-7bb50ec5ed86",
   "metadata": {
    "tags": []
   },
   "outputs": [
    {
     "name": "stdout",
     "output_type": "stream",
     "text": [
      "\u001b[94m \u001b[1m PROMPT\n",
      "\u001b[94m {\"starting_yard_line\": \"TEN 30\", \"quarter_time_remaining\": \"15:00\", \"home_team_score\": \"0\", \"away_team_score\": \"0\", \"quarter\": \"first quarter\", \"play_type\": \"kickoff\", \"team\": \"TEN\", \"receiving team\": \"PIT\", \"distance\": \"67\", \"return yards\": \"39\", \"player name\": \"R.Bironas\", \"returner player name\": \"S.Logan\"} \n",
      " As a professional sportscaster, write a poetry style commentary in english using 2 sentences\n",
      "\u001b[92m \u001b[1m COMMENTARY\n",
      "(15:00) The Titans kick off to start the game,\n",
      "The ball is caught by the Steelers' S. Logan,\n",
      "He returns it 39 yards,\n",
      "And the Steelers start their first drive.\n",
      "\u001b[94m \u001b[1m PROMPT\n",
      "\u001b[94m {\"starting_yard_line\": \"PIT 42\", \"quarter_time_remaining\": \"14:53\", \"home_team_score\": \"0\", \"away_team_score\": \"0\", \"play_type\": \"pass\", \"offensive_team\": \"PIT\", \"defensive_team\": \"TEN\", \"down\": \"first down\", \"pass_length\": \"short\", \"first down with yards to go\": \"10\", \"passer_player_name\": \"B.Roethlisberger\", \"receiver_player_name\": \"H.Ward\", \"passing_yards_gained\": \"5\", \"completion\": \"incomplete pass\"} \n",
      " As a professional sportscaster, write a poetry style commentary in english using 2 sentences\n",
      "\u001b[92m \u001b[1m COMMENTARY\n",
      "(14:53) The Steelers are driving down the field,\n",
      "But their drive stalls as Roethlisberger's pass is incomplete.\n",
      "\u001b[94m \u001b[1m PROMPT\n",
      "\u001b[94m {\"starting_yard_line\": \"PIT 47\", \"quarter_time_remaining\": \"14:16\", \"home_team_score\": \"0\", \"away_team_score\": \"0\", \"play type\": \"run\", \"offensive_team\": \"PIT\", \"defensive_team\": \"TEN\", \"rusher_player_name\": \"W.Parker\", \"rushing_yards_gained\": \"-3\", \"tackle_1_player_name\": \"S.Tulloch\", \"tackle_2_player_name\": \"NA\"} \n",
      " As a professional sportscaster, write a poetry style commentary in english using 2 sentences\n",
      "\u001b[92m \u001b[1m COMMENTARY\n",
      "(14:16) The Steelers' offense is struggling to gain ground,\n",
      "as William Parker is tackled for a loss by the Titans' defense.\n",
      "\u001b[94m \u001b[1m PROMPT\n",
      "\u001b[94m {\"starting_yard_line\": \"PIT 44\", \"quarter_time_remaining\": \"13:35\", \"home_team_score\": \"0\", \"away_team_score\": \"0\", \"play_type\": \"pass\", \"offensive_team\": \"PIT\", \"defensive_team\": \"TEN\", \"down\": \"third down\", \"pass_length\": \"deep\", \"third down with yards to go\": \"8\", \"passer_player_name\": \"B.Roethlisberger\", \"receiver_player_name\": \"M.Wallace\", \"passing_yards_gained\": \"0\", \"completion\": \"incomplete pass\"} \n",
      " As a professional sportscaster, write a poetry style commentary in english using 2 sentences\n",
      "\u001b[92m \u001b[1m COMMENTARY\n",
      "(13:35) The Steelers are on third down,\n",
      "And Big Ben's pass is deep,\n",
      "But it's incomplete,\n",
      "And the Steelers must punt.\n",
      "\u001b[94m \u001b[1m PROMPT\n",
      "\u001b[94m {\"starting_yard_line\": \"PIT 44\", \"quarter_time_remaining\": \"13:27\", \"home_team_score\": \"0\", \"away_team_score\": \"0\", \"play_type\": \"punt\", \"forth down with yards to go\": \"8\", \"offensive_team\": \"PIT\", \"defensive_team\": \"TEN\", \"punt_distance\": \"54\", \"punter_player_name\": \"D.Sepulveda\"} \n",
      " As a professional sportscaster, write a poetry style commentary in english using 2 sentences\n",
      "\u001b[92m \u001b[1m COMMENTARY\n",
      "(13:27) Punting away, Sepulveda's boot\n",
      "Flies through the air, with grace and power.\n"
     ]
    }
   ],
   "source": [
    "language = \"english\" # setting language to be in English\n",
    "style = \"poetry\" # poetry style\n",
    "test_model(language, style)"
   ]
  },
  {
   "cell_type": "code",
   "execution_count": 16,
   "id": "c375b96f-6435-4906-9278-8afc3bff3ab5",
   "metadata": {
    "tags": []
   },
   "outputs": [
    {
     "name": "stdout",
     "output_type": "stream",
     "text": [
      "\u001b[94m \u001b[1m PROMPT\n",
      "\u001b[94m {\"starting_yard_line\": \"TEN 30\", \"quarter_time_remaining\": \"15:00\", \"home_team_score\": \"0\", \"away_team_score\": \"0\", \"quarter\": \"first quarter\", \"play_type\": \"kickoff\", \"team\": \"TEN\", \"receiving team\": \"PIT\", \"distance\": \"67\", \"return yards\": \"39\", \"player name\": \"R.Bironas\", \"returner player name\": \"S.Logan\"} \n",
      " As a professional sportscaster, write a superhero style commentary in english using 2 sentences\n",
      "\u001b[92m \u001b[1m COMMENTARY\n",
      "(15:00) \"And now, it's time for kickoff! R. Bironas takes the field and lines up for the kick. He sends the ball soaring through the air, and it's caught by S.Logan for a 39-yard return! The first quarter is underway, and both teams are scoreless so far. It's going to be an exciting\n",
      "\u001b[94m \u001b[1m PROMPT\n",
      "\u001b[94m {\"starting_yard_line\": \"PIT 42\", \"quarter_time_remaining\": \"14:53\", \"home_team_score\": \"0\", \"away_team_score\": \"0\", \"play_type\": \"pass\", \"offensive_team\": \"PIT\", \"defensive_team\": \"TEN\", \"down\": \"first down\", \"pass_length\": \"short\", \"first down with yards to go\": \"10\", \"passer_player_name\": \"B.Roethlisberger\", \"receiver_player_name\": \"H.Ward\", \"passing_yards_gained\": \"5\", \"completion\": \"incomplete pass\"} \n",
      " As a professional sportscaster, write a superhero style commentary in english using 2 sentences\n",
      "\u001b[92m \u001b[1m COMMENTARY\n",
      "(14:53) \"It's first down for the Steelers, and Big Ben is throwing a short pass to Hines Ward. The pass is incomplete, but Ward makes a great effort to fight for the ball. The Steelers are driving down the field, but the Titans defense is holding strong.\"\n",
      "\u001b[94m \u001b[1m PROMPT\n",
      "\u001b[94m {\"starting_yard_line\": \"PIT 47\", \"quarter_time_remaining\": \"14:16\", \"home_team_score\": \"0\", \"away_team_score\": \"0\", \"play type\": \"run\", \"offensive_team\": \"PIT\", \"defensive_team\": \"TEN\", \"rusher_player_name\": \"W.Parker\", \"rushing_yards_gained\": \"-3\", \"tackle_1_player_name\": \"S.Tulloch\", \"tackle_2_player_name\": \"NA\"} \n",
      " As a professional sportscaster, write a superhero style commentary in english using 2 sentences\n",
      "\u001b[92m \u001b[1m COMMENTARY\n",
      "(14:16) \"With 14:16 remaining in the first quarter, the Pittsburgh Steelers are on their own 47-yard line. Running back Will Parker takes the handoff and is immediately met by the Tennessee Titans' defense, led by linebacker Stephen Tulloch. Parker is tackled for a three-yard loss.\"\n",
      "\u001b[94m \u001b[1m PROMPT\n",
      "\u001b[94m {\"starting_yard_line\": \"PIT 44\", \"quarter_time_remaining\": \"13:35\", \"home_team_score\": \"0\", \"away_team_score\": \"0\", \"play_type\": \"pass\", \"offensive_team\": \"PIT\", \"defensive_team\": \"TEN\", \"down\": \"third down\", \"pass_length\": \"deep\", \"third down with yards to go\": \"8\", \"passer_player_name\": \"B.Roethlisberger\", \"receiver_player_name\": \"M.Wallace\", \"passing_yards_gained\": \"0\", \"completion\": \"incomplete pass\"} \n",
      " As a professional sportscaster, write a superhero style commentary in english using 2 sentences\n",
      "\u001b[92m \u001b[1m COMMENTARY\n",
      "(13:35) \"It's third down and 8 for the Pittsburgh Steelers, and quarterback Ben Roethlisberger takes the snap. He drops back and throws a deep pass to wide receiver Mike Wallace, but it's incomplete. The Titans defense holds strong, and the Steelers are forced to punt.\"\n",
      "\u001b[94m \u001b[1m PROMPT\n",
      "\u001b[94m {\"starting_yard_line\": \"PIT 44\", \"quarter_time_remaining\": \"13:27\", \"home_team_score\": \"0\", \"away_team_score\": \"0\", \"play_type\": \"punt\", \"forth down with yards to go\": \"8\", \"offensive_team\": \"PIT\", \"defensive_team\": \"TEN\", \"punt_distance\": \"54\", \"punter_player_name\": \"D.Sepulveda\"} \n",
      " As a professional sportscaster, write a superhero style commentary in english using 2 sentences\n",
      "\u001b[92m \u001b[1m COMMENTARY\n",
      "(13:27) \"Sepulveda takes the snap and boots it deep down the field, soaring through the air like a majestic eagle. The Titans' defense scrambles, but Sepulveda's punt is unstoppable, soaring over the defenders and landing on the 8-yard line. The Steelers' defense\n"
     ]
    }
   ],
   "source": [
    "language = \"english\" # setting language to be Spanish\n",
    "style = \"superhero\" # standard style being the NFL style\n",
    "test_model(language, style)"
   ]
  },
  {
   "cell_type": "code",
   "execution_count": 17,
   "id": "f83be45f-bc0d-4fd3-a038-38f0458c204d",
   "metadata": {
    "tags": []
   },
   "outputs": [
    {
     "name": "stdout",
     "output_type": "stream",
     "text": [
      "\u001b[94m \u001b[1m PROMPT\n",
      "\u001b[94m {\"starting_yard_line\": \"TEN 30\", \"quarter_time_remaining\": \"15:00\", \"home_team_score\": \"0\", \"away_team_score\": \"0\", \"quarter\": \"first quarter\", \"play_type\": \"kickoff\", \"team\": \"TEN\", \"receiving team\": \"PIT\", \"distance\": \"67\", \"return yards\": \"39\", \"player name\": \"R.Bironas\", \"returner player name\": \"S.Logan\"} \n",
      " As a professional sportscaster, write a nfl style commentary in spanish using 2 sentences\n",
      "\u001b[92m \u001b[1m COMMENTARY\n",
      "(15:00) El jugador R. Bironas lanza un kickoff de 67 yardas, y es recuperado por el jugador S. Logan con 39 yardas de retorno.\n",
      "\u001b[94m \u001b[1m PROMPT\n",
      "\u001b[94m {\"starting_yard_line\": \"PIT 42\", \"quarter_time_remaining\": \"14:53\", \"home_team_score\": \"0\", \"away_team_score\": \"0\", \"play_type\": \"pass\", \"offensive_team\": \"PIT\", \"defensive_team\": \"TEN\", \"down\": \"first down\", \"pass_length\": \"short\", \"first down with yards to go\": \"10\", \"passer_player_name\": \"B.Roethlisberger\", \"receiver_player_name\": \"H.Ward\", \"passing_yards_gained\": \"5\", \"completion\": \"incomplete pass\"} \n",
      " As a professional sportscaster, write a nfl style commentary in spanish using 2 sentences\n",
      "\u001b[92m \u001b[1m COMMENTARY\n",
      "(14:53) El quarterback Ben Roethlisberger completó un pase corto a Hines Ward, pero el receptor no pudo atraparlo completamente, dejando 10 yardas para avanzar.\n",
      "\u001b[94m \u001b[1m PROMPT\n",
      "\u001b[94m {\"starting_yard_line\": \"PIT 47\", \"quarter_time_remaining\": \"14:16\", \"home_team_score\": \"0\", \"away_team_score\": \"0\", \"play type\": \"run\", \"offensive_team\": \"PIT\", \"defensive_team\": \"TEN\", \"rusher_player_name\": \"W.Parker\", \"rushing_yards_gained\": \"-3\", \"tackle_1_player_name\": \"S.Tulloch\", \"tackle_2_player_name\": \"NA\"} \n",
      " As a professional sportscaster, write a nfl style commentary in spanish using 2 sentences\n",
      "\u001b[92m \u001b[1m COMMENTARY\n",
      "(14:16) El corredor de Pittsburgh, William Parker, intentó un correr hacia la línea de anotación, pero fue frustrado por el equipo de los Tennessee Titans, que logró hacerle perder \n",
      "\u001b[94m \u001b[1m PROMPT\n",
      "\u001b[94m {\"starting_yard_line\": \"PIT 44\", \"quarter_time_remaining\": \"13:35\", \"home_team_score\": \"0\", \"away_team_score\": \"0\", \"play_type\": \"pass\", \"offensive_team\": \"PIT\", \"defensive_team\": \"TEN\", \"down\": \"third down\", \"pass_length\": \"deep\", \"third down with yards to go\": \"8\", \"passer_player_name\": \"B.Roethlisberger\", \"receiver_player_name\": \"M.Wallace\", \"passing_yards_gained\": \"0\", \"completion\": \"incomplete pass\"} \n",
      " As a professional sportscaster, write a nfl style commentary in spanish using 2 sentences\n",
      "\u001b[92m \u001b[1m COMMENTARY\n",
      "(13:35) El quarterback Ben Roethlisberger intentó un pase profundo a Mike Wallace, pero el jugador defensivo de Tennessee lo detuvo a tiempo, y se produjo un pase incompleto.\n",
      "\u001b[94m \u001b[1m PROMPT\n",
      "\u001b[94m {\"starting_yard_line\": \"PIT 44\", \"quarter_time_remaining\": \"13:27\", \"home_team_score\": \"0\", \"away_team_score\": \"0\", \"play_type\": \"punt\", \"forth down with yards to go\": \"8\", \"offensive_team\": \"PIT\", \"defensive_team\": \"TEN\", \"punt_distance\": \"54\", \"punter_player_name\": \"D.Sepulveda\"} \n",
      " As a professional sportscaster, write a nfl style commentary in spanish using 2 sentences\n",
      "\u001b[92m \u001b[1m COMMENTARY\n",
      "(13:27) El equipo visitante, los Titanes, hace un gran juego defensivo y logra una gran marca de 54 yardas para el equipo local, los Steelers. El jugador D. Sepulveda \n"
     ]
    }
   ],
   "source": [
    "language = \"spanish\" # setting language to be Spanish\n",
    "style = \"nfl\" # standard style being the NFL style\n",
    "test_model(language, style)"
   ]
  },
  {
   "cell_type": "markdown",
   "id": "32d565a6-e2ee-4476-a0fa-4504310fa742",
   "metadata": {},
   "source": [
    "# Clean up\n",
    "Delete the endpoint"
   ]
  },
  {
   "cell_type": "code",
   "execution_count": null,
   "id": "e21c8114-de44-45a2-ab94-b96397552fff",
   "metadata": {},
   "outputs": [],
   "source": [
    "pedictor.delete_endpoint()"
   ]
  }
 ],
 "metadata": {
  "kernelspec": {
   "display_name": "foundation_model_blog_post",
   "language": "python",
   "name": "foundation_model_blog_post"
  },
  "language_info": {
   "codemirror_mode": {
    "name": "ipython",
    "version": 3
   },
   "file_extension": ".py",
   "mimetype": "text/x-python",
   "name": "python",
   "nbconvert_exporter": "python",
   "pygments_lexer": "ipython3",
   "version": "3.10.10"
  }
 },
 "nbformat": 4,
 "nbformat_minor": 5
}
